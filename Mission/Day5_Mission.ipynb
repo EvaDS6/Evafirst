{
 "cells": [
  {
   "cell_type": "code",
   "execution_count": null,
   "id": "d2c8c0c3",
   "metadata": {},
   "outputs": [
    {
     "name": "stdout",
     "output_type": "stream",
     "text": [
      "\n",
      "학생 이름을 입력하세요 (종료하려면 'exit' 입력): 이사\n",
      "국어점수를 입력하세요.50\n",
      "영어점수를 입력하세요.30\n",
      "수학점수를 입력하세요.20\n",
      "사회점수를 입력하세요.50\n",
      "과학점수를 입력하세요.20\n",
      "[95, 85, 90, 88, 92, '60', '50', '40', '30', '20', '60', '50', '40', '30', '20', 50, 30, 20, 50, 20]\n"
     ]
    }
   ],
   "source": [
    "# 초기값\n",
    "students = {\"이일\" : [50,40,30,20,10],\n",
    "            \"이이\" : [100,80,40,20,0],\n",
    "            \"이삼\" : [10,30,50,70,90]\n",
    "            }\n",
    "# 과목 리스트\n",
    "subjects = [\"국어\", \"영어\", \"수학\", \"사회\", \"과학\"]\n",
    "\n",
    "while True:\n",
    "    # 학생이름 입력\n",
    "    student = input(\"\\n학생 이름을 입력하세요 (종료하려면 'exit' 입력): \")\n",
    "\n",
    "    # 'exit'를 입력하면 프로그램 종료\n",
    "    if student.lower() == 'exit':\n",
    "        print(\"프로그램을 종료합니다.\")\n",
    "        break\n",
    "    \n",
    "    # 목록에 학생이 존재하면, 점수출력\n",
    "    if student in students:\n",
    "        print(\"최저 점수:  \", min(students[student]))\n",
    "        print(\"최고 점수:  \", max(students[student]))\n",
    "        print(\"평균 점수:  \", sum(students[student])/len(students[student]))\n",
    "    \n",
    "    # 목록에 학생이 없다면, 점수입력\n",
    "    else:\n",
    "        scores = []\n",
    "        for subject in subjects:\n",
    "            score = input(f\"{subject}점수를 입력하세요.\")\n",
    "            scores.append(int(score))\n",
    "          \n",
    "        students[student] = scores\n",
    "\n",
    "\n",
    "## 예시 입력\n",
    "#성적을 입력하세요. (국어 영어 수학 사회 과학):\n",
    "#>>> 76 88 62 94 78\n",
    "\n",
    "# 예시 출력\n",
    "#최저 점수: 수학\n",
    "#최고 점수: 사회\n",
    "#평균 점수: 79.6"
   ]
  },
  {
   "cell_type": "code",
   "execution_count": 6,
   "id": "1992ead6",
   "metadata": {},
   "outputs": [
    {
     "name": "stdout",
     "output_type": "stream",
     "text": [
      "성적을 입력하세요. (국어 영어 수학 사회 과학): 20 50 30 20 10\n",
      "최저 점수: 과학\n",
      "최고 점수: 영어\n",
      "평균 점수: 26.0\n"
     ]
    }
   ],
   "source": [
    "# gemini 1-1번\n",
    "\n",
    "# 1. 과목 이름을 리스트로 미리 만들어 둡니다.\n",
    "subjects = [\"국어\", \"영어\", \"수학\", \"사회\", \"과학\"]\n",
    "\n",
    "# 2. 사용자로부터 성적을 한 줄로 입력받습니다.\n",
    "# 예: 76 88 62 94 78\n",
    "input_str = input(\"성적을 입력하세요. (국어 영어 수학 사회 과학): \")\n",
    "\n",
    "# 3. 입력받은 문자열을 공백 기준으로 나누고, 각 숫자를 정수(int)로 바꿔 리스트에 저장합니다.\n",
    "scores = list(map(int, input_str.split()))\n",
    "\n",
    "# 4. 최저 점수와 최고 점수를 찾습니다.\n",
    "min_score = min(scores)\n",
    "max_score = max(scores)\n",
    "\n",
    "# 5. 최저/최고 점수의 위치(index)를 찾아 해당 과목 이름을 가져옵니다.\n",
    "min_subject = subjects[scores.index(min_score)]\n",
    "max_subject = subjects[scores.index(max_score)]\n",
    "\n",
    "# 6. 평균 점수를 계산합니다.\n",
    "average_score = sum(scores) / len(scores)\n",
    "\n",
    "# 7. 결과를 형식에 맞게 출력합니다.\n",
    "print(f\"최저 점수: {min_subject}\")\n",
    "print(f\"최고 점수: {max_subject}\")\n",
    "print(f\"평균 점수: {average_score}\")"
   ]
  },
  {
   "cell_type": "code",
   "execution_count": 8,
   "id": "e86d0da2",
   "metadata": {},
   "outputs": [
    {
     "name": "stdout",
     "output_type": "stream",
     "text": [
      "성적을 조회할 학생의 이름을 입력하세요: 철수\n",
      "--- 철수 학생 성적 정보 ---\n",
      "최저 점수: 수학 (62점)\n",
      "최고 점수: 사회 (94점)\n",
      "평균 점수: 79.6점\n"
     ]
    }
   ],
   "source": [
    "# gemini 1-2번\n",
    "\n",
    "# 1. 여러 학생의 데이터를 딕셔너리로 미리 저장해 둡니다.\n",
    "student_scores = {\n",
    "    \"철수\": [76, 88, 62, 94, 78],\n",
    "    \"영희\": [95, 89, 91, 85, 92],\n",
    "    \"민준\": [100, 80, 75, 88, 95]\n",
    "}\n",
    "\n",
    "# 과목 이름 리스트는 여전히 필요합니다.\n",
    "subjects = [\"국어\", \"영어\", \"수학\", \"사회\", \"과학\"]\n",
    "\n",
    "# 2. 학생 이름을 입력받아 성적 정보를 출력하는 함수를 정의합니다.\n",
    "def get_student_info(name):\n",
    "    # 3. 입력된 이름이 딕셔너리의 키(key)에 있는지 확인합니다.\n",
    "    if name in student_scores:\n",
    "        # 이름이 있다면, 해당 학생의 점수 리스트를 가져옵니다.\n",
    "        scores = student_scores[name]\n",
    "\n",
    "        # 기본 문제와 동일한 로직으로 계산\n",
    "        min_score = min(scores)\n",
    "        max_score = max(scores)\n",
    "        min_subject = subjects[scores.index(min_score)]\n",
    "        max_subject = subjects[scores.index(max_score)]\n",
    "        average_score = sum(scores) / len(scores)\n",
    "\n",
    "        # 결과 출력\n",
    "        print(f\"--- {name} 학생 성적 정보 ---\")\n",
    "        print(f\"최저 점수: {min_subject} ({min_score}점)\")\n",
    "        print(f\"최고 점수: {max_subject} ({max_score}점)\")\n",
    "        print(f\"평균 점수: {average_score:.1f}점\") # 소수점 첫째 자리까지 표시\n",
    "    else:\n",
    "        # 4. 이름이 딕셔너리에 없으면, 없다는 메시지를 출력합니다.\n",
    "        print(f\"'{name}' 학생의 데이터를 찾을 수 없습니다.\")\n",
    "\n",
    "# --- 프로그램 실행 부분 ---\n",
    "# 5. 사용자로부터 조회할 학생의 이름을 입력받습니다.\n",
    "search_name = input(\"성적을 조회할 학생의 이름을 입력하세요: \")\n",
    "\n",
    "# 6. 위에서 만든 함수를 호출하여 결과를 확인합니다.\n",
    "get_student_info(search_name)"
   ]
  },
  {
   "cell_type": "code",
   "execution_count": 20,
   "id": "4318448c",
   "metadata": {},
   "outputs": [
    {
     "name": "stdout",
     "output_type": "stream",
     "text": [
      "--- 학생 성적 관리 프로그램 ---\n",
      "\n",
      "학생 이름을 입력하세요 (종료하려면 'exit' 입력): exit\n",
      "프로그램을 종료합니다.\n"
     ]
    }
   ],
   "source": [
    "# gemini 학생 성적 업데이트 기능 추가\n",
    "# 학생들의 성적을 저장할 딕셔너리 (초기 데이터 예시)\n",
    "student_records = {\n",
    "    \"김철수\": [76, 88, 62, 94, 78],\n",
    "    \"이영희\": [95, 85, 90, 88, 92]\n",
    "}\n",
    "\n",
    "# 과목 리스트 정의\n",
    "subjects = [\"국어\", \"영어\", \"수학\", \"사회\", \"과학\"]\n",
    "\n",
    "print(\"--- 학생 성적 관리 프로그램 ---\")\n",
    "\n",
    "while True:\n",
    "    # 1. 사용자로부터 학생 이름을 입력받습니다.\n",
    "    name = input(\"\\n학생 이름을 입력하세요 (종료하려면 'exit' 입력): \")\n",
    "\n",
    "    # 'exit'를 입력하면 프로그램 종료\n",
    "    if name.lower() == 'exit':\n",
    "        print(\"프로그램을 종료합니다.\")\n",
    "        break\n",
    "\n",
    "    # 2. 딕셔너리에 해당 학생 이름이 있는지 확인합니다.\n",
    "    if name in student_records:\n",
    "        # 이름이 이미 있는 경우: 성적 분석 결과 출력\n",
    "        print(f\"'{name}' 학생의 데이터를 찾았습니다. 성적을 분석합니다.\")\n",
    "        \n",
    "        scores = student_records[name]\n",
    "        \n",
    "        min_score = min(scores)\n",
    "        max_score = max(scores)\n",
    "        \n",
    "        # 최저/최고 점수에 해당하는 과목 찾기\n",
    "        min_subject = subjects[scores.index(min_score)]\n",
    "        max_subject = subjects[scores.index(max_score)]\n",
    "        \n",
    "        # 평균 점수 계산\n",
    "        average_score = sum(scores) / len(scores)\n",
    "        \n",
    "        # 결과 출력\n",
    "        print(f\" -> 최저 점수 과목: {min_subject} ({min_score}점)\")\n",
    "        print(f\" -> 최고 점수 과목: {max_subject} ({max_score}점)\")\n",
    "        print(f\" -> 평균 점수: {average_score:.1f}점\") # 소수점 첫째 자리까지 표시\n",
    "        \n",
    "    else:\n",
    "        # 이름이 없는 경우: 신규 학생으로 성적을 입력받아 추가\n",
    "        print(f\"'{name}'은(는) 새로운 학생입니다. 성적을 추가합니다.\")\n",
    "        \n",
    "        scores_input = input(f\" -> {name} 학생의 성적을 입력하세요 (국어 영어 수학 사회 과학 순서): \")\n",
    "        \n",
    "        # 입력받은 성적을 숫자 리스트로 변환\n",
    "        new_scores = list(map(int, scores_input.split()))\n",
    "        \n",
    "        # 딕셔너리에 새로운 학생 정보 추가\n",
    "        student_records[name] = new_scores\n",
    "        \n",
    "        print(f\"'{name}' 학생의 성적이 성공적으로 추가되었습니다.\")\n",
    "        # 추가된 학생들의 목록을 보여줍니다.\n",
    "        print(f\"현재 저장된 학생: {list(student_records.keys())}\")"
   ]
  },
  {
   "cell_type": "code",
   "execution_count": 11,
   "id": "dcd33c33",
   "metadata": {},
   "outputs": [
    {
     "name": "stdout",
     "output_type": "stream",
     "text": [
      "점수 5개를 쉼표로 구분해 입력하세요: 50 30 20 40 80\n"
     ]
    },
    {
     "ename": "ValueError",
     "evalue": "invalid literal for int() with base 10: '50 30 20 40 80'",
     "output_type": "error",
     "traceback": [
      "\u001b[0;31m---------------------------------------------------------------------------\u001b[0m",
      "\u001b[0;31mValueError\u001b[0m                                Traceback (most recent call last)",
      "\u001b[0;32m/tmp/ipykernel_34/1595024488.py\u001b[0m in \u001b[0;36m<module>\u001b[0;34m\u001b[0m\n\u001b[1;32m      6\u001b[0m \u001b[0;34m\u001b[0m\u001b[0m\n\u001b[1;32m      7\u001b[0m \u001b[0;31m# 문자열 → 정수 리스트 변환\u001b[0m\u001b[0;34m\u001b[0m\u001b[0;34m\u001b[0m\u001b[0m\n\u001b[0;32m----> 8\u001b[0;31m \u001b[0mscores\u001b[0m \u001b[0;34m=\u001b[0m \u001b[0;34m[\u001b[0m\u001b[0mint\u001b[0m\u001b[0;34m(\u001b[0m\u001b[0ms\u001b[0m\u001b[0;34m.\u001b[0m\u001b[0mstrip\u001b[0m\u001b[0;34m(\u001b[0m\u001b[0;34m)\u001b[0m\u001b[0;34m)\u001b[0m \u001b[0;32mfor\u001b[0m \u001b[0ms\u001b[0m \u001b[0;32min\u001b[0m \u001b[0mscores_str\u001b[0m\u001b[0;34m.\u001b[0m\u001b[0msplit\u001b[0m\u001b[0;34m(\u001b[0m\u001b[0;34m\",\"\u001b[0m\u001b[0;34m)\u001b[0m\u001b[0;34m]\u001b[0m\u001b[0;34m\u001b[0m\u001b[0;34m\u001b[0m\u001b[0m\n\u001b[0m\u001b[1;32m      9\u001b[0m \u001b[0;34m\u001b[0m\u001b[0m\n\u001b[1;32m     10\u001b[0m \u001b[0;31m# 최저 / 최고 찾기\u001b[0m\u001b[0;34m\u001b[0m\u001b[0;34m\u001b[0m\u001b[0m\n",
      "\u001b[0;32m/tmp/ipykernel_34/1595024488.py\u001b[0m in \u001b[0;36m<listcomp>\u001b[0;34m(.0)\u001b[0m\n\u001b[1;32m      6\u001b[0m \u001b[0;34m\u001b[0m\u001b[0m\n\u001b[1;32m      7\u001b[0m \u001b[0;31m# 문자열 → 정수 리스트 변환\u001b[0m\u001b[0;34m\u001b[0m\u001b[0;34m\u001b[0m\u001b[0m\n\u001b[0;32m----> 8\u001b[0;31m \u001b[0mscores\u001b[0m \u001b[0;34m=\u001b[0m \u001b[0;34m[\u001b[0m\u001b[0mint\u001b[0m\u001b[0;34m(\u001b[0m\u001b[0ms\u001b[0m\u001b[0;34m.\u001b[0m\u001b[0mstrip\u001b[0m\u001b[0;34m(\u001b[0m\u001b[0;34m)\u001b[0m\u001b[0;34m)\u001b[0m \u001b[0;32mfor\u001b[0m \u001b[0ms\u001b[0m \u001b[0;32min\u001b[0m \u001b[0mscores_str\u001b[0m\u001b[0;34m.\u001b[0m\u001b[0msplit\u001b[0m\u001b[0;34m(\u001b[0m\u001b[0;34m\",\"\u001b[0m\u001b[0;34m)\u001b[0m\u001b[0;34m]\u001b[0m\u001b[0;34m\u001b[0m\u001b[0;34m\u001b[0m\u001b[0m\n\u001b[0m\u001b[1;32m      9\u001b[0m \u001b[0;34m\u001b[0m\u001b[0m\n\u001b[1;32m     10\u001b[0m \u001b[0;31m# 최저 / 최고 찾기\u001b[0m\u001b[0;34m\u001b[0m\u001b[0;34m\u001b[0m\u001b[0m\n",
      "\u001b[0;31mValueError\u001b[0m: invalid literal for int() with base 10: '50 30 20 40 80'"
     ]
    }
   ],
   "source": [
    "# GPT 1-1번\n",
    "subjects = [\"국어\", \"영어\", \"수학\", \"사회\", \"과학\"]\n",
    "\n",
    "# 쉼표로 구분된 점수 입력\n",
    "scores_str = input(\"점수 5개를 쉼표로 구분해 입력하세요: \")  # 예: 76,88,62,94,78\n",
    "\n",
    "# 문자열 → 정수 리스트 변환\n",
    "scores = [int(s.strip()) for s in scores_str.split(\",\")]\n",
    "\n",
    "# 최저 / 최고 찾기\n",
    "min_score = min(scores)\n",
    "max_score = max(scores)\n",
    "\n",
    "min_subject = subjects[scores.index(min_score)]\n",
    "max_subject = subjects[scores.index(max_score)]\n",
    "\n",
    "# 평균\n",
    "avg = sum(scores) / len(scores)\n",
    "\n",
    "# 결과 출력\n",
    "print(f\"최저 점수: {min_score} ({min_subject})\")\n",
    "print(f\"최고 점수: {max_score} ({max_subject})\")\n",
    "print(f\"평균 점수: {avg:.2f}\")\n"
   ]
  },
  {
   "cell_type": "code",
   "execution_count": 12,
   "id": "e7ac8b15",
   "metadata": {},
   "outputs": [
    {
     "name": "stdout",
     "output_type": "stream",
     "text": [
      "학생 이름을 입력하세요: 이름\n",
      "국어 점수 입력: 50\n",
      "영어 점수 입력: 40\n",
      "수학 점수 입력: 30\n",
      "사회 점수 입력: 30\n",
      "과학 점수 입력: 30\n",
      "학생 성적 딕셔너리: {'이름': [50, 40, 30, 30, 30]}\n",
      "\n",
      "📊 이름 성적 요약\n",
      "최저 점수: 30 (수학)\n",
      "최고 점수: 50 (국어)\n",
      "평균 점수: 36.00\n"
     ]
    }
   ],
   "source": [
    "# GPT 1-2번\n",
    "# 과목 이름\n",
    "subjects = [\"국어\", \"영어\", \"수학\", \"사회\", \"과학\"]\n",
    "\n",
    "# 학생 성적 저장 딕셔너리\n",
    "students = {}\n",
    "\n",
    "# 학생 이름 입력\n",
    "name = input(\"학생 이름을 입력하세요: \")\n",
    "\n",
    "# 점수 입력 (과목별로 하나씩)\n",
    "scores = []\n",
    "for subject in subjects:\n",
    "    score = int(input(f\"{subject} 점수 입력: \"))\n",
    "    scores.append(score)\n",
    "\n",
    "# 딕셔너리에 저장 (이름 → 점수리스트)\n",
    "students[name] = scores\n",
    "\n",
    "# 저장된 딕셔너리 확인\n",
    "print(\"학생 성적 딕셔너리:\", students)\n",
    "\n",
    "# 성적 분석\n",
    "min_score = min(scores)\n",
    "max_score = max(scores)\n",
    "avg = sum(scores) / len(scores)\n",
    "\n",
    "min_subject = subjects[scores.index(min_score)]\n",
    "max_subject = subjects[scores.index(max_score)]\n",
    "\n",
    "print(f\"\\n📊 {name} 성적 요약\")\n",
    "print(f\"최저 점수: {min_score} ({min_subject})\")\n",
    "print(f\"최고 점수: {max_score} ({max_subject})\")\n",
    "print(f\"평균 점수: {avg:.2f}\")\n"
   ]
  },
  {
   "cell_type": "code",
   "execution_count": null,
   "id": "3b1e121f",
   "metadata": {},
   "outputs": [],
   "source": []
  }
 ],
 "metadata": {
  "kernelspec": {
   "display_name": "Python 3 (ipykernel)",
   "language": "python",
   "name": "python3"
  },
  "language_info": {
   "codemirror_mode": {
    "name": "ipython",
    "version": 3
   },
   "file_extension": ".py",
   "mimetype": "text/x-python",
   "name": "python",
   "nbconvert_exporter": "python",
   "pygments_lexer": "ipython3",
   "version": "3.9.7"
  }
 },
 "nbformat": 4,
 "nbformat_minor": 5
}
